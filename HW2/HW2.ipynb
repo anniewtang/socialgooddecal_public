{
 "cells": [
  {
   "cell_type": "markdown",
   "metadata": {},
   "source": [
    "### Homework 1, Due: 10/16 by 6p"
   ]
  },
  {
   "cell_type": "code",
   "execution_count": 10,
   "metadata": {
    "collapsed": true
   },
   "outputs": [],
   "source": [
    "import pandas as pd\n",
    "from collections import Counter\n",
    "import numpy as np\n",
    "import heapq"
   ]
  },
  {
   "cell_type": "markdown",
   "metadata": {},
   "source": [
    "In this assignment, we will be using k-nearest neighbors to learn about sentencing in Iowa Prisons. We will be using two datasets: the labeled dataset, which has information about the individual's age, race, institution, offense, and months served, and the testing dataset, which has all of that information except the individual's months served in prison. We will then use k-nearest-neighbors to predict sentencing for everyone in the testing dataset."
   ]
  },
  {
   "cell_type": "markdown",
   "metadata": {},
   "source": [
    "First, we'll load in the labeled dataset. Note that the fiscal year and age at closure are not whole numbers- we've normalized the column so that they are treated with as much weightage as any other column. Most other categories have been encoded using one-hot encoding, which creates columns for each unique value and places a 1 in that column if that instance fits that category. Note that for the race category, there is a 2 in the column if the individual is of that race. We have done that to place more weightage on the race category when using our k-nearest neighbors algorithm."
   ]
  },
  {
   "cell_type": "code",
   "execution_count": 21,
   "metadata": {},
   "outputs": [
    {
     "data": {
      "text/html": [
       "<div>\n",
       "<style>\n",
       "    .dataframe thead tr:only-child th {\n",
       "        text-align: right;\n",
       "    }\n",
       "\n",
       "    .dataframe thead th {\n",
       "        text-align: left;\n",
       "    }\n",
       "\n",
       "    .dataframe tbody tr th {\n",
       "        vertical-align: top;\n",
       "    }\n",
       "</style>\n",
       "<table border=\"1\" class=\"dataframe\">\n",
       "  <thead>\n",
       "    <tr style=\"text-align: right;\">\n",
       "      <th></th>\n",
       "      <th>Fiscal Year Closed</th>\n",
       "      <th>Age at Closure</th>\n",
       "      <th>closure__Parole Granted</th>\n",
       "      <th>closure__Paroled W/Immediate Discharge</th>\n",
       "      <th>closure__Paroled to Detainer - INS</th>\n",
       "      <th>closure__Paroled to Detainer - Iowa</th>\n",
       "      <th>closure__Paroled to Detainer - Out of State</th>\n",
       "      <th>closure__Paroled to Detainer - U.S. Marshall</th>\n",
       "      <th>closure__Paroled w/Immediate Discharge</th>\n",
       "      <th>closure__Released to Special Sentence</th>\n",
       "      <th>...</th>\n",
       "      <th>offense_subtype__Robbery</th>\n",
       "      <th>offense_subtype__Sex</th>\n",
       "      <th>offense_subtype__Stolen Property</th>\n",
       "      <th>offense_subtype__Theft</th>\n",
       "      <th>offense_subtype__Traffic</th>\n",
       "      <th>offense_subtype__Trafficking</th>\n",
       "      <th>offense_subtype__Vandalism</th>\n",
       "      <th>offense_subtype__Weapons</th>\n",
       "      <th>offense_subtype__weapons</th>\n",
       "      <th>Months Served</th>\n",
       "    </tr>\n",
       "  </thead>\n",
       "  <tbody>\n",
       "    <tr>\n",
       "      <th>12686</th>\n",
       "      <td>0.462004</td>\n",
       "      <td>-0.016820</td>\n",
       "      <td>1</td>\n",
       "      <td>0</td>\n",
       "      <td>0</td>\n",
       "      <td>0</td>\n",
       "      <td>0</td>\n",
       "      <td>0</td>\n",
       "      <td>0</td>\n",
       "      <td>0</td>\n",
       "      <td>...</td>\n",
       "      <td>0</td>\n",
       "      <td>0</td>\n",
       "      <td>0</td>\n",
       "      <td>1</td>\n",
       "      <td>0</td>\n",
       "      <td>0</td>\n",
       "      <td>0</td>\n",
       "      <td>0</td>\n",
       "      <td>0</td>\n",
       "      <td>29.93</td>\n",
       "    </tr>\n",
       "    <tr>\n",
       "      <th>4123</th>\n",
       "      <td>-0.287996</td>\n",
       "      <td>-0.225775</td>\n",
       "      <td>1</td>\n",
       "      <td>0</td>\n",
       "      <td>0</td>\n",
       "      <td>0</td>\n",
       "      <td>0</td>\n",
       "      <td>0</td>\n",
       "      <td>0</td>\n",
       "      <td>0</td>\n",
       "      <td>...</td>\n",
       "      <td>0</td>\n",
       "      <td>0</td>\n",
       "      <td>0</td>\n",
       "      <td>0</td>\n",
       "      <td>0</td>\n",
       "      <td>1</td>\n",
       "      <td>0</td>\n",
       "      <td>0</td>\n",
       "      <td>0</td>\n",
       "      <td>5.00</td>\n",
       "    </tr>\n",
       "    <tr>\n",
       "      <th>4904</th>\n",
       "      <td>-0.037996</td>\n",
       "      <td>-0.136223</td>\n",
       "      <td>1</td>\n",
       "      <td>0</td>\n",
       "      <td>0</td>\n",
       "      <td>0</td>\n",
       "      <td>0</td>\n",
       "      <td>0</td>\n",
       "      <td>0</td>\n",
       "      <td>0</td>\n",
       "      <td>...</td>\n",
       "      <td>0</td>\n",
       "      <td>0</td>\n",
       "      <td>0</td>\n",
       "      <td>0</td>\n",
       "      <td>0</td>\n",
       "      <td>1</td>\n",
       "      <td>0</td>\n",
       "      <td>0</td>\n",
       "      <td>0</td>\n",
       "      <td>19.34</td>\n",
       "    </tr>\n",
       "    <tr>\n",
       "      <th>10053</th>\n",
       "      <td>0.462004</td>\n",
       "      <td>-0.031745</td>\n",
       "      <td>1</td>\n",
       "      <td>0</td>\n",
       "      <td>0</td>\n",
       "      <td>0</td>\n",
       "      <td>0</td>\n",
       "      <td>0</td>\n",
       "      <td>0</td>\n",
       "      <td>0</td>\n",
       "      <td>...</td>\n",
       "      <td>0</td>\n",
       "      <td>0</td>\n",
       "      <td>0</td>\n",
       "      <td>0</td>\n",
       "      <td>0</td>\n",
       "      <td>0</td>\n",
       "      <td>0</td>\n",
       "      <td>0</td>\n",
       "      <td>0</td>\n",
       "      <td>11.02</td>\n",
       "    </tr>\n",
       "    <tr>\n",
       "      <th>6595</th>\n",
       "      <td>-0.037996</td>\n",
       "      <td>-0.136223</td>\n",
       "      <td>0</td>\n",
       "      <td>0</td>\n",
       "      <td>0</td>\n",
       "      <td>0</td>\n",
       "      <td>0</td>\n",
       "      <td>0</td>\n",
       "      <td>0</td>\n",
       "      <td>0</td>\n",
       "      <td>...</td>\n",
       "      <td>0</td>\n",
       "      <td>0</td>\n",
       "      <td>0</td>\n",
       "      <td>0</td>\n",
       "      <td>0</td>\n",
       "      <td>0</td>\n",
       "      <td>0</td>\n",
       "      <td>0</td>\n",
       "      <td>0</td>\n",
       "      <td>11.88</td>\n",
       "    </tr>\n",
       "  </tbody>\n",
       "</table>\n",
       "<p>5 rows × 68 columns</p>\n",
       "</div>"
      ],
      "text/plain": [
       "       Fiscal Year Closed  Age at Closure  closure__Parole Granted  \\\n",
       "12686            0.462004       -0.016820                        1   \n",
       "4123            -0.287996       -0.225775                        1   \n",
       "4904            -0.037996       -0.136223                        1   \n",
       "10053            0.462004       -0.031745                        1   \n",
       "6595            -0.037996       -0.136223                        0   \n",
       "\n",
       "       closure__Paroled W/Immediate Discharge  \\\n",
       "12686                                       0   \n",
       "4123                                        0   \n",
       "4904                                        0   \n",
       "10053                                       0   \n",
       "6595                                        0   \n",
       "\n",
       "       closure__Paroled to Detainer - INS  \\\n",
       "12686                                   0   \n",
       "4123                                    0   \n",
       "4904                                    0   \n",
       "10053                                   0   \n",
       "6595                                    0   \n",
       "\n",
       "       closure__Paroled to Detainer - Iowa  \\\n",
       "12686                                    0   \n",
       "4123                                     0   \n",
       "4904                                     0   \n",
       "10053                                    0   \n",
       "6595                                     0   \n",
       "\n",
       "       closure__Paroled to Detainer - Out of State  \\\n",
       "12686                                            0   \n",
       "4123                                             0   \n",
       "4904                                             0   \n",
       "10053                                            0   \n",
       "6595                                             0   \n",
       "\n",
       "       closure__Paroled to Detainer - U.S. Marshall  \\\n",
       "12686                                             0   \n",
       "4123                                              0   \n",
       "4904                                              0   \n",
       "10053                                             0   \n",
       "6595                                              0   \n",
       "\n",
       "       closure__Paroled w/Immediate Discharge  \\\n",
       "12686                                       0   \n",
       "4123                                        0   \n",
       "4904                                        0   \n",
       "10053                                       0   \n",
       "6595                                        0   \n",
       "\n",
       "       closure__Released to Special Sentence      ...        \\\n",
       "12686                                      0      ...         \n",
       "4123                                       0      ...         \n",
       "4904                                       0      ...         \n",
       "10053                                      0      ...         \n",
       "6595                                       0      ...         \n",
       "\n",
       "       offense_subtype__Robbery  offense_subtype__Sex  \\\n",
       "12686                         0                     0   \n",
       "4123                          0                     0   \n",
       "4904                          0                     0   \n",
       "10053                         0                     0   \n",
       "6595                          0                     0   \n",
       "\n",
       "       offense_subtype__Stolen Property  offense_subtype__Theft  \\\n",
       "12686                                 0                       1   \n",
       "4123                                  0                       0   \n",
       "4904                                  0                       0   \n",
       "10053                                 0                       0   \n",
       "6595                                  0                       0   \n",
       "\n",
       "       offense_subtype__Traffic  offense_subtype__Trafficking  \\\n",
       "12686                         0                             0   \n",
       "4123                          0                             1   \n",
       "4904                          0                             1   \n",
       "10053                         0                             0   \n",
       "6595                          0                             0   \n",
       "\n",
       "       offense_subtype__Vandalism  offense_subtype__Weapons  \\\n",
       "12686                           0                         0   \n",
       "4123                            0                         0   \n",
       "4904                            0                         0   \n",
       "10053                           0                         0   \n",
       "6595                            0                         0   \n",
       "\n",
       "       offense_subtype__weapons  Months Served  \n",
       "12686                         0          29.93  \n",
       "4123                          0           5.00  \n",
       "4904                          0          19.34  \n",
       "10053                         0          11.02  \n",
       "6595                          0          11.88  \n",
       "\n",
       "[5 rows x 68 columns]"
      ]
     },
     "execution_count": 21,
     "metadata": {},
     "output_type": "execute_result"
    }
   ],
   "source": [
    "labeled = pd.read_csv('Iowa_Prisons.csv').sample(n = 200)\n",
    "labeled.head()"
   ]
  },
  {
   "cell_type": "code",
   "execution_count": 30,
   "metadata": {
    "collapsed": true
   },
   "outputs": [],
   "source": [
    "test = pd.read_csv('Iowa_Prisons_test.csv')"
   ]
  },
  {
   "cell_type": "markdown",
   "metadata": {},
   "source": [
    "Before we start, let's write a function that takes in two rows of a dataframe and returns the Euclidean distance between them. You can assume that both rows have the same number of elements. \n",
    "\n",
    "The Euclidean distance formula is as follows: \n",
    "$$D(a, b) = \\sqrt{\\sum_{i} (a_i - b_i)^2}$$"
   ]
  },
  {
   "cell_type": "code",
   "execution_count": 2,
   "metadata": {},
   "outputs": [],
   "source": [
    "def find_distance(row1, row2):\n",
    "    ### YOUR CODE HERE\n",
    "    return 0"
   ]
  },
  {
   "cell_type": "markdown",
   "metadata": {},
   "source": [
    "Now, write k-nearest neighbors as defined below to predict how many months the user defined by the input row will serve in prison.\n",
    "\n",
    "Some tips/hints: \n",
    "- The Python [Counter]: https://docs.python.org/2/library/collections.html#collections.Counter class may be useful for finding the top k (or bottom k) items of a list\n",
    "- Remember that you can get row `i` of a dataframe using `df.iloc[i, :]`\n",
    "- When finding the distance between the given row and a row from `labeled`, remember not to include the column from `labeled` that has the actual months served. You only use that once you find the distance.\n",
    "- Once you have the closest k rows, average their months served to make your prediction for the input row. "
   ]
  },
  {
   "cell_type": "code",
   "execution_count": 57,
   "metadata": {
    "collapsed": true
   },
   "outputs": [],
   "source": [
    "def k_nearest_neighbors(k, row, df):\n",
    "    # YOUR CODE HERE\n",
    "    return 0"
   ]
  },
  {
   "cell_type": "markdown",
   "metadata": {},
   "source": [
    "Now, we can test our `k_nearest_neighbors` implementation on our test dataset by running the following block of code, which will output the predicted months served for each of the test datapoints. This may take around 10 minutes to run."
   ]
  },
  {
   "cell_type": "code",
   "execution_count": 58,
   "metadata": {
    "collapsed": true
   },
   "outputs": [],
   "source": [
    "def find_outputs(labeled, test_df, k):\n",
    "    predictions = []\n",
    "    for i in range(len(test_df)):\n",
    "        row = test_df.iloc[i, :]\n",
    "        predictions.append(k_nearest_neighbors(k, row, labeled))\n",
    "    return predictions\n",
    "\n",
    "x = find_outputs(labeled, test, 3)"
   ]
  },
  {
   "cell_type": "markdown",
   "metadata": {},
   "source": [
    "Below we have loaded the true labels for the data:"
   ]
  },
  {
   "cell_type": "code",
   "execution_count": 79,
   "metadata": {
    "collapsed": true
   },
   "outputs": [],
   "source": [
    "labels = np.array(pd.read_csv('Iowa_Prisons_test_labels.csv', header=None)).reshape((len(labels),))"
   ]
  },
  {
   "cell_type": "markdown",
   "metadata": {},
   "source": [
    "Based on these labels and your predictions, ask and answer 2 questions about your findings.\n",
    "\n",
    "Example questions may include: \n",
    "- How the accuracy of the predictions differs across races. Is it more likely to predict more time for certain races and less time for other races? What about the data may lead to this? \n",
    "- How the accuracy of the predictions differs across sex. Is it more likely to predict more time for certain races and less time for other races? What about the data may lead to this? \n",
    "- How do our predictions differ across institutions? What may this reveal about different institutions? "
   ]
  },
  {
   "cell_type": "code",
   "execution_count": null,
   "metadata": {
    "collapsed": true
   },
   "outputs": [],
   "source": []
  }
 ],
 "metadata": {
  "kernelspec": {
   "display_name": "Python 3",
   "language": "python",
   "name": "python3"
  },
  "language_info": {
   "codemirror_mode": {
    "name": "ipython",
    "version": 3
   },
   "file_extension": ".py",
   "mimetype": "text/x-python",
   "name": "python",
   "nbconvert_exporter": "python",
   "pygments_lexer": "ipython3",
   "version": "3.5.4"
  }
 },
 "nbformat": 4,
 "nbformat_minor": 2
}
