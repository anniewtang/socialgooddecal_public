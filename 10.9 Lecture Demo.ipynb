{
 "cells": [
  {
   "cell_type": "code",
   "execution_count": 76,
   "metadata": {},
   "outputs": [],
   "source": [
    "import numpy as np\n",
    "import matplotlib.pyplot as plt\n",
    "from sklearn.neighbors import KNeighborsClassifier"
   ]
  },
  {
   "cell_type": "code",
   "execution_count": 67,
   "metadata": {},
   "outputs": [],
   "source": [
    "def gen_data(k, mu = 3):\n",
    "    noise = np.random.normal(0,1,k)\n",
    "    true_data = mu*np.ones(k)\n",
    "    noisy_data = true_data + noise\n",
    "    return(noisy_data)"
   ]
  },
  {
   "cell_type": "code",
   "execution_count": 68,
   "metadata": {},
   "outputs": [],
   "source": [
    "x1 = gen_data(50, 5)\n",
    "y1 = gen_data(50, 5)\n",
    "x2 = gen_data(50, 4)\n",
    "y2 = gen_data(50, 4)"
   ]
  },
  {
   "cell_type": "code",
   "execution_count": 69,
   "metadata": {},
   "outputs": [
    {
     "data": {
      "image/png": "[encoded data removed]",
      "text/plain": [
       "<Figure size 432x288 with 1 Axes>"
      ]
     },
     "metadata": {},
     "output_type": "display_data"
    }
   ],
   "source": [
    "fig = plt.figure()\n",
    "ax1 = fig.add_subplot(111)\n",
    "\n",
    "ax1.scatter(x1, y1, s=10, c='b', marker=\"s\", label='Class 0')\n",
    "ax1.scatter(x2, y2, s=10, c='r', marker=\"o\", label='Class 1')\n",
    "plt.legend(loc='upper left');\n",
    "plt.show()"
   ]
  },
  {
   "cell_type": "code",
   "execution_count": 74,
   "metadata": {},
   "outputs": [
    {
     "data": {
      "image/png": "[encoded data removed]",
      "text/plain": [
       "<Figure size 432x288 with 1 Axes>"
      ]
     },
     "metadata": {},
     "output_type": "display_data"
    }
   ],
   "source": [
    "X = np.empty((100,3))\n",
    "X[0:50,0] = x1\n",
    "X[0:50,1] = y1\n",
    "X[0:50,2] = np.zeros(50)\n",
    "X[50:100, 0] = x2\n",
    "X[50:100, 1] = y2\n",
    "X[50:100, 2] = np.ones(50)\n",
    "X_train = X[0:100,0:2]\n",
    "y_train = X[0:100,2]\n",
    "neigh = KNeighborsClassifier(n_neighbors=3)\n",
    "neigh.fit(X_train, y_train)\n",
    "#From Class 1\n",
    "num_test = 20\n",
    "X_test = np.empty((num_test,2))\n",
    "X_test[0:num_test, 0] = gen_data(num_test, 4)\n",
    "X_test[0:num_test, 1] = gen_data(num_test, 4)\n",
    "fig = plt.figure()\n",
    "ax1 = fig.add_subplot(111)\n",
    "\n",
    "ax1.scatter(x1, y1, s=10, c='b', marker=\"s\", label='Class 0')\n",
    "ax1.scatter(x2, y2, s=10, c='r', marker=\"o\", label='Class 1')\n",
    "ax1.scatter(X_test[0:num_test, 0], X_test[0:num_test, 1], s=50, c='k', marker=\"x\", label='Test Class 1')\n",
    "plt.legend(loc='upper left');\n",
    "plt.show()"
   ]
  },
  {
   "cell_type": "code",
   "execution_count": 75,
   "metadata": {},
   "outputs": [
    {
     "data": {
      "text/plain": [
       "array([0., 1., 1., 1., 0., 0., 1., 1., 0., 1., 1., 1., 1., 1., 0., 0., 1.,\n",
       "       1., 1., 1.])"
      ]
     },
     "execution_count": 75,
     "metadata": {},
     "output_type": "execute_result"
    }
   ],
   "source": [
    "neigh.predict(X_test)"
   ]
  },
  {
   "cell_type": "code",
   "execution_count": null,
   "metadata": {},
   "outputs": [],
   "source": []
  },
  {
   "cell_type": "code",
   "execution_count": null,
   "metadata": {},
   "outputs": [],
   "source": []
  }
 ],
 "metadata": {
  "kernelspec": {
   "display_name": "Python 3",
   "language": "python",
   "name": "python3"
  },
  "language_info": {
   "codemirror_mode": {
    "name": "ipython",
    "version": 3
   },
   "file_extension": ".py",
   "mimetype": "text/x-python",
   "name": "python",
   "nbconvert_exporter": "python",
   "pygments_lexer": "ipython3",
   "version": "3.6.5"
  }
 },
 "nbformat": 4,
 "nbformat_minor": 2
}
